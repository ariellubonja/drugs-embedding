{
  "cells": [
    {
      "cell_type": "code",
      "execution_count": 2,
      "metadata": {
        "colab": {
          "base_uri": "https://localhost:8080/"
        },
        "id": "PUsEIaI9Z2pv",
        "outputId": "78e15b72-a044-49f5-8c31-e620a59c9960"
      },
      "outputs": [
        {
          "name": "stdout",
          "output_type": "stream",
          "text": [
            "\u001b[34mdrugs\u001b[m\u001b[m               drugs_html_pages.7z\n"
          ]
        }
      ],
      "source": [
        "!ls data/"
      ]
    },
    {
      "cell_type": "code",
      "execution_count": 3,
      "metadata": {
        "colab": {
          "base_uri": "https://localhost:8080/"
        },
        "id": "Hf1pLsJFaQ1H",
        "outputId": "60e1d88a-f0e1-46b0-ed7e-3c3a70e2f785"
      },
      "outputs": [
        {
          "name": "stdout",
          "output_type": "stream",
          "text": [
            "/Users/ariellubonja/prog/drugs-embedding/data/drugs\n"
          ]
        }
      ],
      "source": [
        "%cd data/drugs"
      ]
    },
    {
      "attachments": {},
      "cell_type": "markdown",
      "metadata": {
        "id": "ZSAWCgJXZPIQ"
      },
      "source": [
        "## Get \"Related/similar drugs\" URLs from each page"
      ]
    },
    {
      "cell_type": "code",
      "execution_count": 4,
      "metadata": {
        "colab": {
          "base_uri": "https://localhost:8080/"
        },
        "id": "T4WUtZPBbkSH",
        "outputId": "43957218-b2dc-4680-8675-d6a89a4be8ac"
      },
      "outputs": [
        {
          "name": "stdout",
          "output_type": "stream",
          "text": [
            "<h2>Related/similar drugs</h2>\n"
          ]
        }
      ],
      "source": [
        "!grep -F 'Related/similar drugs' https:\\$\\$www.drugs.com\\$vizimpro.html"
      ]
    },
    {
      "cell_type": "code",
      "execution_count": 5,
      "metadata": {
        "id": "vNMSqpgmb4eh"
      },
      "outputs": [],
      "source": [
        "from bs4 import BeautifulSoup"
      ]
    },
    {
      "cell_type": "code",
      "execution_count": 6,
      "metadata": {
        "id": "C3UyJbHMdGbg"
      },
      "outputs": [],
      "source": [
        "html_text = ''\n",
        "with open(\"https:$$www.drugs.com$vizimpro.html\", 'r') as first_file:\n",
        "    html_text = first_file.read()"
      ]
    },
    {
      "cell_type": "code",
      "execution_count": 7,
      "metadata": {
        "id": "DIk110kVdcvb"
      },
      "outputs": [],
      "source": [
        "parsed_text = BeautifulSoup(html_text)\n",
        "# html_text"
      ]
    },
    {
      "cell_type": "code",
      "execution_count": 8,
      "metadata": {
        "colab": {
          "base_uri": "https://localhost:8080/"
        },
        "id": "doR4U7GSdd_B",
        "outputId": "047ee9f5-fed1-46b6-85e1-204c5cd6e670"
      },
      "outputs": [
        {
          "data": {
            "text/plain": [
              "[<h2>Related/similar drugs</h2>,\n",
              " <a href=\"/exkivity.html\">Exkivity</a>,\n",
              " <a href=\"/methotrexate.html\">methotrexate</a>,\n",
              " <a href=\"/mtm/paclitaxel.html\">paclitaxel</a>,\n",
              " <a href=\"/keytruda.html\">Keytruda</a>,\n",
              " <a href=\"/mtm/cisplatin.html\">cisplatin</a>,\n",
              " <a href=\"/avastin.html\">Avastin</a>,\n",
              " <a href=\"/tagrisso.html\">Tagrisso</a>]"
            ]
          },
          "execution_count": 8,
          "metadata": {},
          "output_type": "execute_result"
        }
      ],
      "source": [
        "related_drugs = parsed_text.find(\"h2\", string='Related/similar drugs').parent()\n",
        "related_drugs"
      ]
    },
    {
      "cell_type": "code",
      "execution_count": 9,
      "metadata": {
        "colab": {
          "base_uri": "https://localhost:8080/"
        },
        "id": "CvRuj8uBiRWm",
        "outputId": "9efcfa28-2c1b-4dc5-bd12-cb8eee662123"
      },
      "outputs": [
        {
          "data": {
            "text/plain": [
              "<a href=\"/exkivity.html\">Exkivity</a>"
            ]
          },
          "execution_count": 9,
          "metadata": {},
          "output_type": "execute_result"
        }
      ],
      "source": [
        "related_drugs[1]"
      ]
    },
    {
      "cell_type": "code",
      "execution_count": 10,
      "metadata": {
        "colab": {
          "base_uri": "https://localhost:8080/",
          "height": 35
        },
        "id": "O1NubnfUiKgO",
        "outputId": "1f864745-4f28-4dbd-fd8d-4a64841b9866"
      },
      "outputs": [
        {
          "data": {
            "text/plain": [
              "'/exkivity.html'"
            ]
          },
          "execution_count": 10,
          "metadata": {},
          "output_type": "execute_result"
        }
      ],
      "source": [
        "related_drugs[1]['href']"
      ]
    },
    {
      "cell_type": "code",
      "execution_count": 11,
      "metadata": {
        "id": "VLcKOqbdbF3H"
      },
      "outputs": [],
      "source": [
        "BASE_URL = \"https://www.drugs.com\""
      ]
    },
    {
      "cell_type": "code",
      "execution_count": null,
      "metadata": {
        "colab": {
          "base_uri": "https://localhost:8080/"
        },
        "id": "hhK1S85Kei1v",
        "outputId": "ca68f3b0-1f69-4f04-836a-77ecfc33db97"
      },
      "outputs": [
        {
          "data": {
            "text/plain": [
              "[['https:$$www.drugs.com$vizimpro.html',\n",
              "  'https:$$www.drugs.com$exkivity.html'],\n",
              " ['https:$$www.drugs.com$vizimpro.html',\n",
              "  'https:$$www.drugs.com$methotrexate.html'],\n",
              " ['https:$$www.drugs.com$vizimpro.html',\n",
              "  'https:$$www.drugs.com$mtm$paclitaxel.html'],\n",
              " ['https:$$www.drugs.com$vizimpro.html',\n",
              "  'https:$$www.drugs.com$keytruda.html'],\n",
              " ['https:$$www.drugs.com$vizimpro.html',\n",
              "  'https:$$www.drugs.com$mtm$cisplatin.html'],\n",
              " ['https:$$www.drugs.com$vizimpro.html', 'https:$$www.drugs.com$avastin.html'],\n",
              " ['https:$$www.drugs.com$vizimpro.html',\n",
              "  'https:$$www.drugs.com$tagrisso.html']]"
            ]
          },
          "execution_count": 89,
          "metadata": {},
          "output_type": "execute_result"
        }
      ],
      "source": [
        "# Create edgelist in [[source1, destination1], [source2, destination2], ...]\n",
        "edgelist = []\n",
        "for i in range(1, len(related_drugs)): # Need to skip the first line with <h2></h2>\n",
        "    # print(ahref)\n",
        "    edgelist.append([\"https:$$www.drugs.com$vizimpro.html\", (BASE_URL+related_drugs[i]['href']).replace(\"/\",\"$\")])\n",
        "\n",
        "edgelist"
      ]
    },
    {
      "attachments": {},
      "cell_type": "markdown",
      "metadata": {
        "id": "0D-7PHjq5-lw"
      },
      "source": [
        "### Repeat the above for all pages"
      ]
    },
    {
      "cell_type": "code",
      "execution_count": null,
      "metadata": {
        "id": "4GaRSVdn-of5"
      },
      "outputs": [],
      "source": [
        "# If it exists, return the related drug links in the current page\n",
        "# html_text_string: simple string resulting from filename.read()\n",
        "def find_related_drug_links(html_text_string, show_errors=True):\n",
        "    parsed_text = BeautifulSoup(html_text_string)\n",
        "    try:\n",
        "        related_drugs_parent = parsed_text.find(\"h2\", string='Related/similar drugs').parent()\n",
        "        BASE_URL = \"https://www.drugs.com\"\n",
        "\n",
        "        related_urls = []\n",
        "        for i in range(1, len(related_drugs_parent)): # Need to skip the first line with <h2></h2>\n",
        "            # print(ahref)\n",
        "            related_urls.append(BASE_URL+related_drugs_parent[i]['href'])\n",
        "\n",
        "        return related_urls\n",
        "    except AttributeError:\n",
        "        if show_errors:\n",
        "            print(\"Page has no Related drugs section, skipping: \", parsed_text.find(\"title\"))\n",
        "        return []"
      ]
    },
    {
      "attachments": {},
      "cell_type": "markdown",
      "metadata": {
        "id": "1p6CN3qB5WHf"
      },
      "source": [
        "## Create graph - using url (replaced / with $ due to path issues) as node, and Related drugs as edges"
      ]
    },
    {
      "cell_type": "code",
      "execution_count": null,
      "metadata": {
        "id": "DiuKJnWv6C8u"
      },
      "outputs": [],
      "source": [
        "import os\n",
        "\n",
        "# Create edgelist in [[source1, destination1], [source2, destination2], ...]\n",
        "# Reads current directory, where each drug's html page is saved\n",
        "def create_edgelist_graph():\n",
        "    print(\"Creating Graph edgelist from Drugs files at \", os.getcwd())\n",
        "\n",
        "    edgelist = []\n",
        "    j=0\n",
        "    NR_FILES = len(os.listdir())\n",
        "    for filename in os.listdir():\n",
        "        if j % 100 == 0:\n",
        "            print(\"Processed \", j, \" / \", NR_FILES)\n",
        "\n",
        "        # Cannot use / in linux filepaths - it means folder\n",
        "        filename_replaced = filename.replace(\"/\",\"$\")\n",
        "\n",
        "        # Load drug.html file, parse html\n",
        "        html_text = ''\n",
        "        with open(filename_replaced, 'r') as first_file:\n",
        "            html_text = first_file.read()\n",
        "\n",
        "        # Find the Related Drugs section in the page, if it exists\n",
        "        related_drugs = find_related_drug_links(html_text, show_errors=False)\n",
        "\n",
        "        for i in range(len(related_drugs)): # Need to skip the first line with <h2></h2>\n",
        "            # print(related_drugs)\n",
        "            edgelist.append([filename_replaced, related_drugs[i].replace(\"/\",\"$\")])\n",
        "\n",
        "        j += 1\n",
        "\n",
        "    return edgelist"
      ]
    },
    {
      "cell_type": "code",
      "execution_count": null,
      "metadata": {
        "colab": {
          "base_uri": "https://localhost:8080/"
        },
        "id": "-T50r0ASisQH",
        "outputId": "c197ce27-ac97-4e28-a928-ad0c89e7b0a5"
      },
      "outputs": [
        {
          "name": "stdout",
          "output_type": "stream",
          "text": [
            "Creating Graph edgelist from Drugs files at  /content/drive/MyDrive/drugs-com/drugs\n",
            "Processed  0  /  15637\n",
            "Processed  100  /  15637\n",
            "Processed  200  /  15637\n",
            "Processed  300  /  15637\n",
            "Processed  400  /  15637\n",
            "Processed  500  /  15637\n",
            "Processed  600  /  15637\n",
            "Processed  700  /  15637\n",
            "Processed  800  /  15637\n",
            "Processed  900  /  15637\n",
            "Processed  1000  /  15637\n",
            "Processed  1100  /  15637\n",
            "Processed  1200  /  15637\n",
            "Processed  1300  /  15637\n",
            "Processed  1400  /  15637\n",
            "Processed  1500  /  15637\n",
            "Processed  1600  /  15637\n",
            "Processed  1700  /  15637\n",
            "Processed  1800  /  15637\n",
            "Processed  1900  /  15637\n",
            "Processed  2000  /  15637\n",
            "Processed  2100  /  15637\n",
            "Processed  2200  /  15637\n",
            "Processed  2300  /  15637\n",
            "Processed  2400  /  15637\n",
            "Processed  2500  /  15637\n",
            "Processed  2600  /  15637\n",
            "Processed  2700  /  15637\n",
            "Processed  2800  /  15637\n",
            "Processed  2900  /  15637\n",
            "Processed  3000  /  15637\n",
            "Processed  3100  /  15637\n",
            "Processed  3200  /  15637\n",
            "Processed  3300  /  15637\n",
            "Processed  3400  /  15637\n",
            "Processed  3500  /  15637\n",
            "Processed  3600  /  15637\n",
            "Processed  3700  /  15637\n",
            "Processed  3800  /  15637\n",
            "Processed  3900  /  15637\n",
            "Processed  4000  /  15637\n",
            "Processed  4100  /  15637\n",
            "Processed  4200  /  15637\n",
            "Processed  4300  /  15637\n",
            "Processed  4400  /  15637\n",
            "Processed  4500  /  15637\n",
            "Processed  4600  /  15637\n",
            "Processed  4700  /  15637\n",
            "Processed  4800  /  15637\n",
            "Processed  4900  /  15637\n",
            "Processed  5000  /  15637\n",
            "Processed  5100  /  15637\n",
            "Processed  5200  /  15637\n",
            "Processed  5300  /  15637\n",
            "Processed  5400  /  15637\n",
            "Processed  5500  /  15637\n",
            "Processed  5600  /  15637\n",
            "Processed  5700  /  15637\n",
            "Processed  5800  /  15637\n",
            "Processed  5900  /  15637\n",
            "Processed  6000  /  15637\n",
            "Processed  6100  /  15637\n",
            "Processed  6200  /  15637\n",
            "Processed  6300  /  15637\n",
            "Processed  6400  /  15637\n",
            "Processed  6500  /  15637\n",
            "Processed  6600  /  15637\n",
            "Processed  6700  /  15637\n",
            "Processed  6800  /  15637\n",
            "Processed  6900  /  15637\n",
            "Processed  7000  /  15637\n",
            "Processed  7100  /  15637\n",
            "Processed  7200  /  15637\n",
            "Processed  7300  /  15637\n",
            "Processed  7400  /  15637\n",
            "Processed  7500  /  15637\n",
            "Processed  7600  /  15637\n",
            "Processed  7700  /  15637\n",
            "Processed  7800  /  15637\n",
            "Processed  7900  /  15637\n",
            "Processed  8000  /  15637\n",
            "Processed  8100  /  15637\n",
            "Processed  8200  /  15637\n",
            "Processed  8300  /  15637\n",
            "Processed  8400  /  15637\n",
            "Processed  8500  /  15637\n",
            "Processed  8600  /  15637\n",
            "Processed  8700  /  15637\n",
            "Processed  8800  /  15637\n",
            "Processed  8900  /  15637\n",
            "Processed  9000  /  15637\n",
            "Processed  9100  /  15637\n",
            "Processed  9200  /  15637\n",
            "Processed  9300  /  15637\n",
            "Processed  9400  /  15637\n",
            "Processed  9500  /  15637\n",
            "Processed  9600  /  15637\n",
            "Processed  9700  /  15637\n",
            "Processed  9800  /  15637\n",
            "Processed  9900  /  15637\n",
            "Processed  10000  /  15637\n",
            "Processed  10100  /  15637\n",
            "Processed  10200  /  15637\n",
            "Processed  10300  /  15637\n",
            "Processed  10400  /  15637\n",
            "Processed  10500  /  15637\n",
            "Processed  10600  /  15637\n",
            "Processed  10700  /  15637\n",
            "Processed  10800  /  15637\n",
            "Processed  10900  /  15637\n",
            "Processed  11000  /  15637\n",
            "Processed  11100  /  15637\n",
            "Processed  11200  /  15637\n",
            "Processed  11300  /  15637\n",
            "Processed  11400  /  15637\n",
            "Processed  11500  /  15637\n",
            "Processed  11600  /  15637\n",
            "Processed  11700  /  15637\n",
            "Processed  11800  /  15637\n",
            "Processed  11900  /  15637\n",
            "Processed  12000  /  15637\n",
            "Processed  12100  /  15637\n",
            "Processed  12200  /  15637\n",
            "Processed  12300  /  15637\n",
            "Processed  12400  /  15637\n",
            "Processed  12500  /  15637\n",
            "Processed  12600  /  15637\n",
            "Processed  12700  /  15637\n",
            "Processed  12800  /  15637\n",
            "Processed  12900  /  15637\n",
            "Processed  13000  /  15637\n",
            "Processed  13100  /  15637\n",
            "Processed  13200  /  15637\n",
            "Processed  13300  /  15637\n",
            "Processed  13400  /  15637\n",
            "Processed  13500  /  15637\n",
            "Processed  13600  /  15637\n",
            "Processed  13700  /  15637\n",
            "Processed  13800  /  15637\n",
            "Processed  13900  /  15637\n",
            "Processed  14000  /  15637\n",
            "Processed  14100  /  15637\n",
            "Processed  14200  /  15637\n",
            "Processed  14300  /  15637\n",
            "Processed  14400  /  15637\n",
            "Processed  14500  /  15637\n",
            "Processed  14600  /  15637\n",
            "Processed  14700  /  15637\n",
            "Processed  14800  /  15637\n",
            "Processed  14900  /  15637\n",
            "Processed  15000  /  15637\n",
            "Processed  15100  /  15637\n",
            "Processed  15200  /  15637\n",
            "Processed  15300  /  15637\n",
            "Processed  15400  /  15637\n",
            "Processed  15500  /  15637\n",
            "Processed  15600  /  15637\n"
          ]
        }
      ],
      "source": [
        "edgelist = create_edgelist_graph()"
      ]
    },
    {
      "cell_type": "code",
      "execution_count": null,
      "metadata": {
        "colab": {
          "base_uri": "https://localhost:8080/"
        },
        "id": "vUl1ruaMizbi",
        "outputId": "4b9771ea-4b95-4b97-8095-924afce03b0a"
      },
      "outputs": [
        {
          "data": {
            "text/plain": [
              "[['https:$$www.drugs.com$cons$benzamycin-pak-topical.html',\n",
              "  'https:$$www.drugs.com$doxycycline.html'],\n",
              " ['https:$$www.drugs.com$cons$benzamycin-pak-topical.html',\n",
              "  'https:$$www.drugs.com$mtm$clindamycin-topical.html'],\n",
              " ['https:$$www.drugs.com$cons$benzamycin-pak-topical.html',\n",
              "  'https:$$www.drugs.com$mtm$erythromycin-topical.html'],\n",
              " ['https:$$www.drugs.com$cons$benzamycin-pak-topical.html',\n",
              "  'https:$$www.drugs.com$tetracycline.html'],\n",
              " ['https:$$www.drugs.com$cons$benzamycin-pak-topical.html',\n",
              "  'https:$$www.drugs.com$tazorac.html'],\n",
              " ['https:$$www.drugs.com$cons$qualisone.html',\n",
              "  'https:$$www.drugs.com$otezla.html'],\n",
              " ['https:$$www.drugs.com$cons$qualisone.html',\n",
              "  'https:$$www.drugs.com$taltz.html'],\n",
              " ['https:$$www.drugs.com$cons$qualisone.html',\n",
              "  'https:$$www.drugs.com$prednisone.html'],\n",
              " ['https:$$www.drugs.com$cons$qualisone.html',\n",
              "  'https:$$www.drugs.com$doxycycline.html'],\n",
              " ['https:$$www.drugs.com$cons$qualisone.html',\n",
              "  'https:$$www.drugs.com$methotrexate.html']]"
            ]
          },
          "execution_count": 93,
          "metadata": {},
          "output_type": "execute_result"
        }
      ],
      "source": [
        "edgelist[:10]"
      ]
    },
    {
      "cell_type": "code",
      "execution_count": null,
      "metadata": {
        "id": "0fD6Kbq1-a2X"
      },
      "outputs": [],
      "source": [
        "import pandas as pd\n",
        "\n",
        "edgelist_df = pd.DataFrame(edgelist)"
      ]
    },
    {
      "cell_type": "code",
      "execution_count": null,
      "metadata": {
        "colab": {
          "base_uri": "https://localhost:8080/",
          "height": 250
        },
        "id": "eBXzD2RR-ni6",
        "outputId": "674acb9e-3fc3-4629-9ecf-a0e54b075ba5"
      },
      "outputs": [
        {
          "data": {
            "text/html": [
              "\n",
              "  <div id=\"df-0ce161f8-38c8-4d25-98c4-8df06d4712cd\">\n",
              "    <div class=\"colab-df-container\">\n",
              "      <div>\n",
              "<style scoped>\n",
              "    .dataframe tbody tr th:only-of-type {\n",
              "        vertical-align: middle;\n",
              "    }\n",
              "\n",
              "    .dataframe tbody tr th {\n",
              "        vertical-align: top;\n",
              "    }\n",
              "\n",
              "    .dataframe thead th {\n",
              "        text-align: right;\n",
              "    }\n",
              "</style>\n",
              "<table border=\"1\" class=\"dataframe\">\n",
              "  <thead>\n",
              "    <tr style=\"text-align: right;\">\n",
              "      <th></th>\n",
              "      <th>0</th>\n",
              "      <th>1</th>\n",
              "    </tr>\n",
              "  </thead>\n",
              "  <tbody>\n",
              "    <tr>\n",
              "      <th>0</th>\n",
              "      <td>https:$$www.drugs.com$cons$benzamycin-pak-topi...</td>\n",
              "      <td>https:$$www.drugs.com$doxycycline.html</td>\n",
              "    </tr>\n",
              "    <tr>\n",
              "      <th>1</th>\n",
              "      <td>https:$$www.drugs.com$cons$benzamycin-pak-topi...</td>\n",
              "      <td>https:$$www.drugs.com$mtm$clindamycin-topical....</td>\n",
              "    </tr>\n",
              "    <tr>\n",
              "      <th>2</th>\n",
              "      <td>https:$$www.drugs.com$cons$benzamycin-pak-topi...</td>\n",
              "      <td>https:$$www.drugs.com$mtm$erythromycin-topical...</td>\n",
              "    </tr>\n",
              "    <tr>\n",
              "      <th>3</th>\n",
              "      <td>https:$$www.drugs.com$cons$benzamycin-pak-topi...</td>\n",
              "      <td>https:$$www.drugs.com$tetracycline.html</td>\n",
              "    </tr>\n",
              "    <tr>\n",
              "      <th>4</th>\n",
              "      <td>https:$$www.drugs.com$cons$benzamycin-pak-topi...</td>\n",
              "      <td>https:$$www.drugs.com$tazorac.html</td>\n",
              "    </tr>\n",
              "  </tbody>\n",
              "</table>\n",
              "</div>\n",
              "      <button class=\"colab-df-convert\" onclick=\"convertToInteractive('df-0ce161f8-38c8-4d25-98c4-8df06d4712cd')\"\n",
              "              title=\"Convert this dataframe to an interactive table.\"\n",
              "              style=\"display:none;\">\n",
              "        \n",
              "  <svg xmlns=\"http://www.w3.org/2000/svg\" height=\"24px\"viewBox=\"0 0 24 24\"\n",
              "       width=\"24px\">\n",
              "    <path d=\"M0 0h24v24H0V0z\" fill=\"none\"/>\n",
              "    <path d=\"M18.56 5.44l.94 2.06.94-2.06 2.06-.94-2.06-.94-.94-2.06-.94 2.06-2.06.94zm-11 1L8.5 8.5l.94-2.06 2.06-.94-2.06-.94L8.5 2.5l-.94 2.06-2.06.94zm10 10l.94 2.06.94-2.06 2.06-.94-2.06-.94-.94-2.06-.94 2.06-2.06.94z\"/><path d=\"M17.41 7.96l-1.37-1.37c-.4-.4-.92-.59-1.43-.59-.52 0-1.04.2-1.43.59L10.3 9.45l-7.72 7.72c-.78.78-.78 2.05 0 2.83L4 21.41c.39.39.9.59 1.41.59.51 0 1.02-.2 1.41-.59l7.78-7.78 2.81-2.81c.8-.78.8-2.07 0-2.86zM5.41 20L4 18.59l7.72-7.72 1.47 1.35L5.41 20z\"/>\n",
              "  </svg>\n",
              "      </button>\n",
              "      \n",
              "  <style>\n",
              "    .colab-df-container {\n",
              "      display:flex;\n",
              "      flex-wrap:wrap;\n",
              "      gap: 12px;\n",
              "    }\n",
              "\n",
              "    .colab-df-convert {\n",
              "      background-color: #E8F0FE;\n",
              "      border: none;\n",
              "      border-radius: 50%;\n",
              "      cursor: pointer;\n",
              "      display: none;\n",
              "      fill: #1967D2;\n",
              "      height: 32px;\n",
              "      padding: 0 0 0 0;\n",
              "      width: 32px;\n",
              "    }\n",
              "\n",
              "    .colab-df-convert:hover {\n",
              "      background-color: #E2EBFA;\n",
              "      box-shadow: 0px 1px 2px rgba(60, 64, 67, 0.3), 0px 1px 3px 1px rgba(60, 64, 67, 0.15);\n",
              "      fill: #174EA6;\n",
              "    }\n",
              "\n",
              "    [theme=dark] .colab-df-convert {\n",
              "      background-color: #3B4455;\n",
              "      fill: #D2E3FC;\n",
              "    }\n",
              "\n",
              "    [theme=dark] .colab-df-convert:hover {\n",
              "      background-color: #434B5C;\n",
              "      box-shadow: 0px 1px 3px 1px rgba(0, 0, 0, 0.15);\n",
              "      filter: drop-shadow(0px 1px 2px rgba(0, 0, 0, 0.3));\n",
              "      fill: #FFFFFF;\n",
              "    }\n",
              "  </style>\n",
              "\n",
              "      <script>\n",
              "        const buttonEl =\n",
              "          document.querySelector('#df-0ce161f8-38c8-4d25-98c4-8df06d4712cd button.colab-df-convert');\n",
              "        buttonEl.style.display =\n",
              "          google.colab.kernel.accessAllowed ? 'block' : 'none';\n",
              "\n",
              "        async function convertToInteractive(key) {\n",
              "          const element = document.querySelector('#df-0ce161f8-38c8-4d25-98c4-8df06d4712cd');\n",
              "          const dataTable =\n",
              "            await google.colab.kernel.invokeFunction('convertToInteractive',\n",
              "                                                     [key], {});\n",
              "          if (!dataTable) return;\n",
              "\n",
              "          const docLinkHtml = 'Like what you see? Visit the ' +\n",
              "            '<a target=\"_blank\" href=https://colab.research.google.com/notebooks/data_table.ipynb>data table notebook</a>'\n",
              "            + ' to learn more about interactive tables.';\n",
              "          element.innerHTML = '';\n",
              "          dataTable['output_type'] = 'display_data';\n",
              "          await google.colab.output.renderOutput(dataTable, element);\n",
              "          const docLink = document.createElement('div');\n",
              "          docLink.innerHTML = docLinkHtml;\n",
              "          element.appendChild(docLink);\n",
              "        }\n",
              "      </script>\n",
              "    </div>\n",
              "  </div>\n",
              "  "
            ],
            "text/plain": [
              "                                                   0  \\\n",
              "0  https:$$www.drugs.com$cons$benzamycin-pak-topi...   \n",
              "1  https:$$www.drugs.com$cons$benzamycin-pak-topi...   \n",
              "2  https:$$www.drugs.com$cons$benzamycin-pak-topi...   \n",
              "3  https:$$www.drugs.com$cons$benzamycin-pak-topi...   \n",
              "4  https:$$www.drugs.com$cons$benzamycin-pak-topi...   \n",
              "\n",
              "                                                   1  \n",
              "0             https:$$www.drugs.com$doxycycline.html  \n",
              "1  https:$$www.drugs.com$mtm$clindamycin-topical....  \n",
              "2  https:$$www.drugs.com$mtm$erythromycin-topical...  \n",
              "3            https:$$www.drugs.com$tetracycline.html  \n",
              "4                 https:$$www.drugs.com$tazorac.html  "
            ]
          },
          "execution_count": 95,
          "metadata": {},
          "output_type": "execute_result"
        }
      ],
      "source": [
        "edgelist_df.head()"
      ]
    },
    {
      "cell_type": "code",
      "execution_count": null,
      "metadata": {
        "id": "GI_jK5VW-o86"
      },
      "outputs": [],
      "source": [
        "# Save to CSV\n",
        "edgelist_df.to_csv(\"drugs_html_edgelist.csv\", index=False)"
      ]
    },
    {
      "cell_type": "code",
      "execution_count": null,
      "metadata": {
        "id": "xP0wy9OeBWfh"
      },
      "outputs": [],
      "source": []
    }
  ],
  "metadata": {
    "colab": {
      "provenance": []
    },
    "kernelspec": {
      "display_name": "Python 3",
      "name": "python3"
    },
    "language_info": {
      "codemirror_mode": {
        "name": "ipython",
        "version": 3
      },
      "file_extension": ".py",
      "mimetype": "text/x-python",
      "name": "python",
      "nbconvert_exporter": "python",
      "pygments_lexer": "ipython3",
      "version": "3.9.6"
    }
  },
  "nbformat": 4,
  "nbformat_minor": 0
}
