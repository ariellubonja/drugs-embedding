{
 "cells": [
  {
   "cell_type": "code",
   "execution_count": 14,
   "id": "966ad518-7129-4e4c-927b-12743b19c66f",
   "metadata": {},
   "outputs": [],
   "source": [
    "from biobert_embedding.embedding import BiobertEmbedding\n",
    "from utils import graph_tools\n",
    "from multiprocessing import Pool"
   ]
  },
  {
   "cell_type": "code",
   "execution_count": 15,
   "id": "12f9043d",
   "metadata": {},
   "outputs": [],
   "source": [
    "num_processes = 10"
   ]
  },
  {
   "attachments": {},
   "cell_type": "markdown",
   "id": "073a1da6-f4b9-46d5-9f36-8135c77c6252",
   "metadata": {},
   "source": [
    "## Original pip install biobert-embedding does not work (it's too old)\n",
    "\n",
    "I forked the repo. Install using `pip install git+https://github.com/ariellubonja/biobert_embedding`"
   ]
  },
  {
   "cell_type": "code",
   "execution_count": 3,
   "id": "e2a8fab6-27d9-421c-8c03-d2b7333fa481",
   "metadata": {
    "scrolled": true
   },
   "outputs": [
    {
     "name": "stdout",
     "output_type": "stream",
     "text": [
      "Using existing models/pytorch_model.bin\n",
      "Using existing models/config.json\n",
      "Using existing models/vocab.txt\n"
     ]
    }
   ],
   "source": [
    "## Example 1\n",
    "text = \"Breast cancers with HER2 amplification have a higher risk of CNS metastasis and poorer prognosis.\"\\\n",
    "\n",
    "# Class Initialization (You can set default 'model_path=None' as your finetuned BERT model path while Initialization)\n",
    "biobert = BiobertEmbedding()"
   ]
  },
  {
   "attachments": {},
   "cell_type": "markdown",
   "id": "0e991397-707e-426e-9e5c-9233e9612949",
   "metadata": {},
   "source": [
    "#### Basic example to make sure it works"
   ]
  },
  {
   "cell_type": "code",
   "execution_count": 4,
   "id": "7584fab5-7f55-45d6-96b9-68efebf2263a",
   "metadata": {},
   "outputs": [
    {
     "name": "stdout",
     "output_type": "stream",
     "text": [
      "Text Tokens:  ['breast', 'cancers', 'with', 'her2', 'amplification', 'have', 'a', 'higher', 'risk', 'of', 'cns', 'metastasis', 'and', 'poorer', 'prognosis', '.']\n",
      "Shape of Word Embeddings: 16 x 768\n",
      "Shape of Sentence Embedding =  768\n"
     ]
    }
   ],
   "source": [
    "word_embeddings = biobert.word_vector(text)\n",
    "sentence_embedding = biobert.sentence_vector(text)\n",
    "\n",
    "print(\"Text Tokens: \", biobert.tokens)\n",
    "# Text Tokens:  ['breast', 'cancers', 'with', 'her2', 'amplification', 'have', 'a', 'higher', 'risk', 'of', 'cns', 'metastasis', 'and', 'poorer', 'prognosis', '.']\n",
    "\n",
    "print ('Shape of Word Embeddings: %d x %d' % (len(word_embeddings), len(word_embeddings[0])))\n",
    "# Shape of Word Embeddings: 16 x 768\n",
    "\n",
    "print(\"Shape of Sentence Embedding = \",len(sentence_embedding))\n",
    "# Shape of Sentence Embedding =  768\n",
    "\n",
    "## Example 2\n",
    "sentence_vector1 = biobert.sentence_vector('Breast cancers with HER2 amplification have a higher risk of CNS metastasis and poorer prognosis.')\n",
    "sentence_vector2 = biobert.sentence_vector('Breast cancers with HER2 amplification are more aggressive, have a higher risk of CNS metastasis, and poorer prognosis.')"
   ]
  },
  {
   "cell_type": "code",
   "execution_count": 5,
   "id": "d09e2416-c21a-48d5-ac97-2261f15debed",
   "metadata": {},
   "outputs": [
    {
     "name": "stdout",
     "output_type": "stream",
     "text": [
      "cosine similarity: 0.9927560091018677\n"
     ]
    }
   ],
   "source": [
    "from scipy.spatial.distance import cosine as cosine_distance\n",
    "\n",
    "cosine_sim = 1 - cosine_distance(sentence_vector1, sentence_vector2)\n",
    "print('cosine similarity:', cosine_sim)\n",
    "#cosine similarity: 0.992756187915802"
   ]
  },
  {
   "cell_type": "code",
   "execution_count": 6,
   "id": "a2d71dce-9fe2-4065-8b30-493cb96e923b",
   "metadata": {},
   "outputs": [
    {
     "name": "stdout",
     "output_type": "stream",
     "text": [
      "Help on method word_vector in module biobert_embedding.embedding:\n",
      "\n",
      "word_vector(text, handle_oov=True, filter_extra_tokens=True) method of biobert_embedding.embedding.BiobertEmbedding instance\n",
      "\n"
     ]
    }
   ],
   "source": [
    "help(biobert.word_vector)"
   ]
  },
  {
   "attachments": {},
   "cell_type": "markdown",
   "id": "417978d6-9447-431c-8b53-7e2e2ccb9ea6",
   "metadata": {},
   "source": [
    "### Word Embeddings of Drugs.com drug names (without supporting text)\n",
    "\n",
    "Find the drug names I've crawled [here](https://drive.google.com/drive/folders/1EO659a-tyjfXjKzHk-M0WreZBR14MgRM?usp=sharing)"
   ]
  },
  {
   "cell_type": "code",
   "execution_count": 7,
   "id": "74c9d4de-f4e1-42bf-a6a8-31521cee4c8a",
   "metadata": {},
   "outputs": [],
   "source": [
    "unique_drug_names = graph_tools.get_unique_drugs()"
   ]
  },
  {
   "cell_type": "code",
   "execution_count": 16,
   "id": "509bd66b",
   "metadata": {},
   "outputs": [],
   "source": [
    "# This will take a while. It's parallelized\n",
    "pool = Pool(num_processes)\n",
    "\n",
    "# biobert_embeddings_oov = list(map(biobert.word_vector, unique_drug_names)) # Single-threaded\n",
    "\n",
    "# Out of vocabulary will be split into smaller. May end up with multiple embeddings for each word\n",
    "biobert_embeddings_oov = pool.map(biobert.word_vector, unique_drug_names)\n",
    "\n",
    "pool.close()\n",
    "pool.join()"
   ]
  },
  {
   "cell_type": "code",
   "execution_count": 20,
   "id": "781e9a29",
   "metadata": {},
   "outputs": [
    {
     "data": {
      "text/plain": [
       "torch.Size([768])"
      ]
     },
     "execution_count": 20,
     "metadata": {},
     "output_type": "execute_result"
    }
   ],
   "source": [
    "biobert_embeddings[0][0].shape"
   ]
  },
  {
   "cell_type": "code",
   "execution_count": 25,
   "id": "8194f87b",
   "metadata": {},
   "outputs": [
    {
     "data": {
      "text/plain": [
       "'promacot-injection-intravenous'"
      ]
     },
     "execution_count": 25,
     "metadata": {},
     "output_type": "execute_result"
    }
   ],
   "source": [
    "list(unique_drug_names)[0]"
   ]
  },
  {
   "cell_type": "code",
   "execution_count": 28,
   "id": "0513f96e",
   "metadata": {},
   "outputs": [
    {
     "data": {
      "text/plain": [
       "5"
      ]
     },
     "execution_count": 28,
     "metadata": {},
     "output_type": "execute_result"
    }
   ],
   "source": [
    "len(biobert.word_vector(list(unique_drug_names)[0]))"
   ]
  },
  {
   "cell_type": "code",
   "execution_count": 33,
   "id": "e9f76ffa",
   "metadata": {},
   "outputs": [
    {
     "data": {
      "text/plain": [
       "torch.Size([768])"
      ]
     },
     "execution_count": 33,
     "metadata": {},
     "output_type": "execute_result"
    }
   ],
   "source": [
    "biobert.word_vector(list(unique_drug_names)[0])[4].shape"
   ]
  },
  {
   "cell_type": "code",
   "execution_count": 21,
   "id": "a23c3d95",
   "metadata": {},
   "outputs": [
    {
     "data": {
      "text/plain": [
       "5"
      ]
     },
     "execution_count": 21,
     "metadata": {},
     "output_type": "execute_result"
    }
   ],
   "source": [
    "len(biobert_embeddings[0])"
   ]
  },
  {
   "cell_type": "code",
   "execution_count": null,
   "id": "c832b331",
   "metadata": {},
   "outputs": [],
   "source": [
    "biobert_embeddings"
   ]
  },
  {
   "attachments": {},
   "cell_type": "markdown",
   "id": "6a40d13a",
   "metadata": {},
   "source": [
    "## Evaluations\n",
    "\n",
    "Top-K similarities"
   ]
  },
  {
   "cell_type": "code",
   "execution_count": null,
   "id": "90695fab",
   "metadata": {},
   "outputs": [],
   "source": [
    "import faiss\n",
    "import numpy as np\n",
    "\n",
    "# Assuming you have computed biobert_embeddings\n",
    "\n",
    "# Instantiate an index with the desired index type and dimensionality\n",
    "index = faiss.IndexFlatIP(256)  # Cosine similarity, assuming 256-dimensional embeddings\n",
    "\n",
    "# Convert biobert_embeddings to a numpy array\n",
    "biobert_embeddings_np = np.array(biobert_embeddings)\n",
    "\n",
    "# Add biobert_embeddings_np to the index\n",
    "index.add(biobert_embeddings_np)\n",
    "\n",
    "# Specify the number of nearest neighbors to retrieve (k)\n",
    "k = 5\n",
    "\n",
    "# Perform the similarity search for each embedding\n",
    "D, I = index.search(biobert_embeddings_np, k+1)  # Retrieve k+1 neighbors to exclude self\n",
    "\n",
    "# D contains the similarities to the nearest neighbors (cosine similarity)\n",
    "# I contains the indices of the nearest neighbors (excluding self)\n",
    "\n",
    "# Iterate over each embedding\n",
    "for i in range(biobert_embeddings_np.shape[0]):\n",
    "    embedding = biobert_embeddings_np[i]\n",
    "    nearest_indices = I[i][1:]  # Exclude self, start from index 1\n",
    "    nearest_similarities = D[i][1:]  # Exclude self, start from index 1\n",
    "\n",
    "    # Print the top-k nearest neighbors for the current embedding\n",
    "    print(f\"Embedding {i+1}:\")\n",
    "    for j, index in enumerate(nearest_indices):\n",
    "        similarity = nearest_similarities[j]\n",
    "        print(f\"Nearest Neighbor {j+1}: Index {index}, Similarity {similarity}\")\n",
    "    print()\n"
   ]
  },
  {
   "attachments": {},
   "cell_type": "markdown",
   "id": "4cb57841-87c8-441c-8847-96abec59cced",
   "metadata": {},
   "source": [
    "## TODO try ClinicalBERT https://github.com/EmilyAlsentzer/clinicalBERT"
   ]
  },
  {
   "cell_type": "code",
   "execution_count": 8,
   "id": "cdfdda59-4fe6-49f4-ad18-b2c8e248ffef",
   "metadata": {},
   "outputs": [],
   "source": [
    "# from transformers import AutoTokenizer, AutoModel\n",
    "# tokenizer = AutoTokenizer.from_pretrained(\"emilyalsentzer/Bio_ClinicalBERT\")\n",
    "# model = AutoModel.from_pretrained(\"emilyalsentzer/Bio_ClinicalBERT\")\n"
   ]
  },
  {
   "attachments": {},
   "cell_type": "markdown",
   "id": "96187578-da47-4bf3-8e87-fa3f3834d2ba",
   "metadata": {},
   "source": [
    "## TODO try PubChem Embeddings, DrugBERT"
   ]
  },
  {
   "cell_type": "code",
   "execution_count": null,
   "id": "a7befa08-cb7f-4b6a-8a4d-dc54462213f9",
   "metadata": {},
   "outputs": [],
   "source": []
  }
 ],
 "metadata": {
  "kernelspec": {
   "display_name": "Python 3 (ipykernel)",
   "language": "python",
   "name": "python3"
  },
  "language_info": {
   "codemirror_mode": {
    "name": "ipython",
    "version": 3
   },
   "file_extension": ".py",
   "mimetype": "text/x-python",
   "name": "python",
   "nbconvert_exporter": "python",
   "pygments_lexer": "ipython3",
   "version": "3.9.6"
  }
 },
 "nbformat": 4,
 "nbformat_minor": 5
}
