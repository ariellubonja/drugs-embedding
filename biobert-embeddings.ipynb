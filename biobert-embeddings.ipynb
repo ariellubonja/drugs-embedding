{
 "cells": [
  {
   "cell_type": "code",
   "execution_count": 14,
   "id": "966ad518-7129-4e4c-927b-12743b19c66f",
   "metadata": {},
   "outputs": [],
   "source": [
    "from biobert_embedding.embedding import BiobertEmbedding\n",
    "from utils import graph_tools\n",
    "from multiprocessing import Pool"
   ]
  },
  {
   "cell_type": "code",
   "execution_count": 35,
   "id": "12f9043d",
   "metadata": {},
   "outputs": [],
   "source": [
    "num_processes = 10\n",
    "pool = Pool(num_processes)"
   ]
  },
  {
   "attachments": {},
   "cell_type": "markdown",
   "id": "073a1da6-f4b9-46d5-9f36-8135c77c6252",
   "metadata": {},
   "source": [
    "## Original pip install biobert-embedding does not work (it's too old)\n",
    "\n",
    "I forked the repo. Install using `pip install git+https://github.com/ariellubonja/biobert_embedding`"
   ]
  },
  {
   "cell_type": "code",
   "execution_count": 3,
   "id": "e2a8fab6-27d9-421c-8c03-d2b7333fa481",
   "metadata": {
    "scrolled": true
   },
   "outputs": [
    {
     "name": "stdout",
     "output_type": "stream",
     "text": [
      "Using existing models/pytorch_model.bin\n",
      "Using existing models/config.json\n",
      "Using existing models/vocab.txt\n"
     ]
    }
   ],
   "source": [
    "## Example 1\n",
    "text = \"Breast cancers with HER2 amplification have a higher risk of CNS metastasis and poorer prognosis.\"\\\n",
    "\n",
    "# Class Initialization (You can set default 'model_path=None' as your finetuned BERT model path while Initialization)\n",
    "biobert = BiobertEmbedding()"
   ]
  },
  {
   "attachments": {},
   "cell_type": "markdown",
   "id": "0e991397-707e-426e-9e5c-9233e9612949",
   "metadata": {},
   "source": [
    "#### Basic example to make sure it works"
   ]
  },
  {
   "cell_type": "code",
   "execution_count": 4,
   "id": "7584fab5-7f55-45d6-96b9-68efebf2263a",
   "metadata": {},
   "outputs": [
    {
     "name": "stdout",
     "output_type": "stream",
     "text": [
      "Text Tokens:  ['breast', 'cancers', 'with', 'her2', 'amplification', 'have', 'a', 'higher', 'risk', 'of', 'cns', 'metastasis', 'and', 'poorer', 'prognosis', '.']\n",
      "Shape of Word Embeddings: 16 x 768\n",
      "Shape of Sentence Embedding =  768\n"
     ]
    }
   ],
   "source": [
    "word_embeddings = biobert.word_vector(text)\n",
    "sentence_embedding = biobert.sentence_vector(text)\n",
    "\n",
    "print(\"Text Tokens: \", biobert.tokens)\n",
    "# Text Tokens:  ['breast', 'cancers', 'with', 'her2', 'amplification', 'have', 'a', 'higher', 'risk', 'of', 'cns', 'metastasis', 'and', 'poorer', 'prognosis', '.']\n",
    "\n",
    "print ('Shape of Word Embeddings: %d x %d' % (len(word_embeddings), len(word_embeddings[0])))\n",
    "# Shape of Word Embeddings: 16 x 768\n",
    "\n",
    "print(\"Shape of Sentence Embedding = \",len(sentence_embedding))\n",
    "# Shape of Sentence Embedding =  768\n",
    "\n",
    "## Example 2\n",
    "sentence_vector1 = biobert.sentence_vector('Breast cancers with HER2 amplification have a higher risk of CNS metastasis and poorer prognosis.')\n",
    "sentence_vector2 = biobert.sentence_vector('Breast cancers with HER2 amplification are more aggressive, have a higher risk of CNS metastasis, and poorer prognosis.')"
   ]
  },
  {
   "cell_type": "code",
   "execution_count": 5,
   "id": "d09e2416-c21a-48d5-ac97-2261f15debed",
   "metadata": {},
   "outputs": [
    {
     "name": "stdout",
     "output_type": "stream",
     "text": [
      "cosine similarity: 0.9927560091018677\n"
     ]
    }
   ],
   "source": [
    "from scipy.spatial.distance import cosine as cosine_distance\n",
    "\n",
    "cosine_sim = 1 - cosine_distance(sentence_vector1, sentence_vector2)\n",
    "print('cosine similarity:', cosine_sim)\n",
    "#cosine similarity: 0.992756187915802"
   ]
  },
  {
   "cell_type": "code",
   "execution_count": 6,
   "id": "a2d71dce-9fe2-4065-8b30-493cb96e923b",
   "metadata": {},
   "outputs": [
    {
     "name": "stdout",
     "output_type": "stream",
     "text": [
      "Help on method word_vector in module biobert_embedding.embedding:\n",
      "\n",
      "word_vector(text, handle_oov=True, filter_extra_tokens=True) method of biobert_embedding.embedding.BiobertEmbedding instance\n",
      "\n"
     ]
    }
   ],
   "source": [
    "help(biobert.word_vector)"
   ]
  },
  {
   "attachments": {},
   "cell_type": "markdown",
   "id": "417978d6-9447-431c-8b53-7e2e2ccb9ea6",
   "metadata": {},
   "source": [
    "### Word Embeddings of Drugs.com drug names (without supporting text)\n",
    "\n",
    "Find the drug names I've crawled [here](https://drive.google.com/drive/folders/1EO659a-tyjfXjKzHk-M0WreZBR14MgRM?usp=sharing)"
   ]
  },
  {
   "cell_type": "code",
   "execution_count": 50,
   "id": "74c9d4de-f4e1-42bf-a6a8-31521cee4c8a",
   "metadata": {},
   "outputs": [],
   "source": [
    "unique_drug_names = list(graph_tools.get_unique_drugs())"
   ]
  },
  {
   "attachments": {},
   "cell_type": "markdown",
   "id": "ad1705e2",
   "metadata": {},
   "source": [
    "<font color=\"orange\">The cell below will try to handle Out of Vocabulary terms. This means that the embedding matrix is not a clear matrix, but will be a list of Tensors</font>"
   ]
  },
  {
   "cell_type": "code",
   "execution_count": 16,
   "id": "509bd66b",
   "metadata": {},
   "outputs": [],
   "source": [
    "# This will take a while\n",
    "\n",
    "# biobert_embeddings_oov = list(map(biobert.word_vector, unique_drug_names)) # Single-threaded\n",
    "\n",
    "# Out of vocabulary will be split into smaller. May end up with multiple embeddings for each word\n",
    "# parallelized\n",
    "biobert_embeddings_oov = pool.map(biobert.word_vector, unique_drug_names)\n",
    "\n",
    "pool.close()\n",
    "pool.join()"
   ]
  },
  {
   "cell_type": "code",
   "execution_count": 37,
   "id": "c3b327a0",
   "metadata": {},
   "outputs": [],
   "source": [
    "import functools\n",
    "# ...\n",
    "\n",
    "# Define a partial function with the desired argument\n",
    "word_vector_no_oov = functools.partial(biobert.word_vector, handle_oov=False)\n",
    "\n",
    "# Apply the modified function in parallel using map()\n",
    "biobert_embeddings_no_oov = pool.map(word_vector_no_oov, unique_drug_names)\n",
    "\n",
    "pool.close()\n",
    "pool.join()"
   ]
  },
  {
   "cell_type": "code",
   "execution_count": 41,
   "id": "9c450077",
   "metadata": {},
   "outputs": [
    {
     "data": {
      "text/plain": [
       "list"
      ]
     },
     "execution_count": 41,
     "metadata": {},
     "output_type": "execute_result"
    }
   ],
   "source": [
    "type(biobert_embeddings_no_oov[0])"
   ]
  },
  {
   "cell_type": "code",
   "execution_count": 43,
   "id": "cc53676f",
   "metadata": {},
   "outputs": [
    {
     "data": {
      "text/plain": [
       "10"
      ]
     },
     "execution_count": 43,
     "metadata": {},
     "output_type": "execute_result"
    }
   ],
   "source": [
    "len(biobert_embeddings_no_oov[0])"
   ]
  },
  {
   "cell_type": "code",
   "execution_count": 47,
   "id": "b17381e9",
   "metadata": {},
   "outputs": [],
   "source": [
    "# We have multiple embeddings for each drug name\n",
    "each_drug_embedding_len = [len(biobert_embeddings_no_oov[i]) for i in range(len(biobert_embeddings_no_oov))]"
   ]
  },
  {
   "cell_type": "code",
   "execution_count": 48,
   "id": "5637bcd7",
   "metadata": {},
   "outputs": [
    {
     "name": "stdout",
     "output_type": "stream",
     "text": [
      "10 2 3 5 5 15 8 6 13 8 6 19 11 8 6 5 6 3 3 7 4 6 8 17 4 9 11 2 6 6 7 9 10 6 3 8 8 3 12 12 5 7 11 7 10 4 5 8 7 3 3 4 3 10 4 5 6 3 4 11 15 6 7 4 4 3 4 19 4 5 10 11 8 8 5 9 4 3 15 4 8 4 8 11 6 8 3 5 2 6 10 3 5 4 11 10 5 5 5 8 7 9 2 6 7 6 11 7 3 8 9 5 10 9 3 9 10 7 7 3 3 3 19 5 10 6 4 5 9 11 7 4 5 7 4 24 2 5 19 6 10 9 2 4 6 2 3 4 5 4 3 6 7 6 4 6 9 8 6 4 3 8 11 10 5 9 2 4 4 10 4 11 4 3 13 13 3 8 8 9 4 4 9 8 4 3 6 2 4 16 6 2 4 10 4 7 3 8 7 15 6 6 4 4 4 16 3 3 4 3 9 4 7 8 4 7 3 2 11 10 12 8 5 10 4 2 18 21 17 8 10 5 5 4 10 11 30 14 5 6 2 4 4 12 11 3 5 9 4 9 7 6 13 11 4 2 6 3 2 4 5 11 13 3 12 7 7 5 7 6 2 7 4 4 3 9 8 7 9 3 7 5 2 11 4 4 4 9 7 4 6 6 10 2 5 6 6 5 3 3 7 6 17 4 17 5 5 6 15 4 9 5 19 10 6 5 5 4 6 4 6 7 11 8 8 7 4 13 4 4 5 9 5 10 4 4 7 3 3 5 14 9 7 17 17 1 8 11 8 7 9 8 14 6 5 3 11 3 4 9 6 3 4 10 6 7 2 4 5 8 9 5 7 7 9 5 24 4 3 8 3 3 9 10 8 3 4 4 3 5 3 13 4 3 4 13 5 13 13 7 4 4 4 3 2 7 10 9 6 4 7 3 3 8 3 15 10 7 14 4 7 8 5 4 5 8 7 4 2 6 5 17 3 5 5 11 9 4 16 8 8 5 4 5 4 2 7 3 6 6 7 5 11 3 3 8 3 11 10 10 8 4 4 11 2 3 9 11 3 4 5 9 5 4 5 9 2 6 2 10 10 9 7 11 7 7 9 9 10 19 8 9 7 7 5 3 4 4 5 8 7 2 9 5 5 5 5 3 2 4 6 4 3 3 5 4 6 5 4 5 3 4 5 3 5 11 4 7 6 3 4 7 11 3 4 5 7 12 3 7 2 14 6 3 3 9 12 6 10 7 8 13 5 5 3 5 5 4 17 2 6 8 4 8 11 4 2 3 5 9 3 3 9 8 11 12 13 7 8 3 3 7 3 6 3 11 7 10 3 3 9 6 5 9 5 5 7 9 4 9 3 22 12 9 3 6 19 8 7 7 12 4 8 3 3 4 5 3 13 3 9 4 23 3 8 5 7 5 12 5 8 9 4 20 11 4 9 4 3 4 4 6 4 10 4 3 4 4 11 3 3 6 4 5 3 4 8 5 5 3 9 2 6 4 3 4 5 14 15 5 8 9 6 5 5 2 8 12 10 4 5 8 10 10 4 2 6 4 6 14 3 3 7 5 7 4 9 10 14 21 9 4 5 11 16 7 7 8 16 9 2 6 4 16 5 17 10 3 3 10 3 10 14 4 6 4 10 2 4 3 9 8 3 6 5 6 4 8 7 6 7 12 4 3 3 7 3 3 21 5 7 18 7 21 10 6 4 3 3 8 6 13 3 13 3 5 9 3 15 9 13 8 9 8 4 22 4 18 4 6 3 7 5 4 5 3 9 2 7 4 4 4 10 5 25 9 13 19 5 2 3 4 2 4 6 4 3 6 5 5 9 8 4 4 8 2 5 5 8 7 3 3 4 5 4 3 3 17 4 5 4 3 5 3 5 4 4 8 9 23 7 18 4 3 13 9 3 5 3 4 4 10 13 5 5 4 7 29 4 6 9 12 3 3 6 4 10 9 13 4 3 6 14 15 9 3 4 8 6 4 7 14 5 4 4 3 8 4 8 3 14 10 11 3 7 6 10 18 6 4 4 4 8 8 4 3 15 4 7 8 5 22 3 3 12 6 3 4 5 3 6 8 4 12 5 4 10 12 6 4 3 7 10 3 5 3 4 9 6 10 3 4 18 4 3 13 5 7 4 8 4 6 6 9 3 9 4 7 5 13 9 5 3 9 6 4 5 4 8 4 7 4 8 9 3 10 14 6 7 5 3 2 10 7 3 3 3 3 18 3 5 13 4 5 4 5 5 9 3 10 5 13 2 6 8 8 4 12 3 12 11 3 7 4 5 7 6 13 5 9 6 3 4 5 5 9 6 7 8 4 3 3 3 23 3 4 3 5 15 9 3 3 7 3 23 9 4 5 11 7 10 6 5 6 5 12 2 3 4 8 5 3 3 4 4 4 3 13 4 11 7 2 15 2 3 23 3 5 8 8 9 2 3 5 4 9 4 3 5 4 6 4 4 4 3 5 3 7 10 6 8 6 9 3 15 3 4 3 2 2 4 3 2 2 6 6 2 3 4 6 14 3 12 3 20 8 6 9 3 6 10 4 8 6 5 4 4 12 9 4 11 7 4 4 4 9 2 3 6 24 4 3 14 7 5 11 3 7 8 3 15 4 6 3 12 2 7 4 4 8 6 3 10 6 3 2 3 7 5 7 9 3 4 3 3 7 5 13 8 5 3 15 3 7 3 7 9 4 7 4 4 6 9 3 5 22 8 6 3 8 5 4 12 12 8 9 5 17 2 5 16 6 14 11 7 14 9 20 5 5 5 13 4 3 11 27 4 5 3 3 4 4 7 4 6 3 22 7 10 8 5 10 4 3 4 6 3 5 13 4 5 8 5 3 2 3 4 7 14 4 9 6 3 4 3 5 7 5 8 3 4 19 8 5 4 3 4 9 4 10 3 5 7 9 6 6 7 6 4 6 5 7 18 8 9 5 6 3 4 4 4 15 5 3 5 5 5 6 6 6 5 12 5 4 3 7 10 11 4 6 9 9 3 8 25 15 12 3 6 4 4 4 5 4 4 5 4 3 6 7 14 7 9 7 3 6 15 4 9 5 2 11 6 3 3 4 13 19 7 3 9 8 5 9 14 4 4 6 11 4 2 3 6 8 9 8 8 10 3 5 7 15 10 3 3 3 3 3 3 2 3 3 3 4 10 7 10 4 9 8 11 9 4 3 2 2 5 7 11 6 5 4 6 10 16 7 16 13 16 2 12 7 6 11 5 4 12 7 7 7 3 4 9 12 2 5 5 7 7 2 5 3 3 15 3 11 7 4 11 6 4 18 10 9 4 6 8 10 3 6 7 4 2 9 3 5 7 8 6 6 12 4 2 5 4 4 4 8 5 5 6 4 4 7 10 11 4 14 4 3 5 6 15 3 12 11 7 9 4 6 6 3 5 22 9 7 8 12 5 13 4 4 18 10 5 9 3 10 3 7 4 9 14 4 3 4 3 4 3 19 13 3 5 4 5 4 7 4 7 3 18 4 4 7 10 11 10 9 5 5 8 9 4 7 3 3 6 5 7 9 3 9 3 15 6 5 6 5 6 15 12 4 10 6 4 4 6 10 5 7 10 4 5 2 14 4 11 4 4 5 6 7 9 9 1 7 18 6 4 4 4 6 3 12 3 7 6 9 4 8 2 4 5 3 5 7 7 4 13 20 5 14 9 21 3 6 10 3 8 5 3 3 4 9 5 4 3 3 14 3 3 5 4 6 9 3 6 5 5 6 3 6 7 7 11 8 5 8 10 6 4 3 11 3 8 7 5 7 10 9 10 5 4 7 4 6 6 3 10 10 3 4 5 7 5 2 9 5 10 6 5 3 8 3 7 10 21 7 7 10 5 5 6 4 23 7 10 6 6 4 4 4 3 7 4 3 4 1 3 15 8 7 7 11 4 4 7 10 4 12 12 17 2 4 8 3 3 4 4 6 5 3 3 10 4 3 7 5 4 4 13 3 5 9 5 2 3 3 3 3 7 5 15 7 3 12 9 4 3 13 10 13 10 6 4 7 6 3 10 20 8 5 10 9 4 3 4 2 2 8 4 12 5 12 5 5 3 4 11 19 13 3 12 4 13 4 3 13 13 10 13 3 4 8 4 7 9 4 3 9 7 1 3 4 12 2 3 3 4 5 6 21 16 5 11 9 3 4 13 8 12 4 5 7 4 9 11 7 3 3 7 14 7 15 5 3 5 7 8 8 13 7 3 5 3 4 5 11 12 11 7 6 19 4 3 3 5 9 3 8 4 7 4 4 4 4 9 14 4 2 23 6 13 7 3 16 4 2 5 8 16 11 6 6 3 11 4 14 11 7 2 3 5 7 4 3 4 3 3 6 20 4 8 10 10 10 8 3 12 5 9 5 3 8 6 7 4 9 7 7 8 6 5 12 5 5 9 5 5 8 10 5 3 12 12 10 7 5 9 3 5 12 10 7 3 7 7 7 9 3 5 11 5 3 3 9 3 9 7 11 7 7 4 9 10 9 3 3 7 3 3 5 3 3 6 7 3 19 9 5 7 6 11 3 4 7 10 3 20 10 4 7 4 3 8 9 9 14 4 6 6 5 3 4 3 2 2 21 7 7 12 3 8 6 6 6 11 3 3 10 5 4 12 4 9 3 5 37 3 7 7 18 5 8 7 3 3 6 5 6 4 17 7 3 3 4 18 7 14 4 7 10 3 14 8 11 6 9 6 5 4 5 2 7 4 4 11 7 4 11 8 13 4 3 4 4 4 8 8 6 8 4 9 4 9 10 5 4 8 18 8 7 6 5 9 12 11 8 9 3 4 9 8 3 3 3 3 8 4 8 11 11 10 11 10 6 5 4 3 3 4 6 8 3 8 18 4 4 9 3 9 3 3 5 9 3 7 6 3 6 11 6 3 3 11 13 9 4 6 7 11 7 4 7 3 8 3 3 14 4 5 6 3 7 9 3 4 4 25 11 4 4 8 6 3 7 4 3 7 11 2 4 5 10 4 4 3 4 8 3 9 12 17 4 5 11 2 9 4 9 13 5 1 8 4 6 6 11 4 10 3 4 7 4 6 4 9 3 4 4 9 6 5 4 4 4 4 3 4 4 3 6 9 3 9 4 3 6 9 4 6 5 13 14 16 5 7 6 7 4 6 4 10 9 10 5 2 7 13 4 7 2 4 6 10 6 11 8 19 5 9 3 3 4 6 4 5 8 16 3 7 4 5 4 3 4 4 7 14 3 6 8 23 6 3 11 4 2 5 3 4 4 4 3 12 6 10 6 3 8 3 7 4 15 3 3 8 9 9 7 4 6 5 5 8 4 2 7 14 12 4 3 3 3 5 3 2 8 8 6 4 4 6 14 5 4 7 8 7 9 3 7 3 5 12 8 4 8 9 12 10 5 4 4 30 12 7 11 22 3 6 7 11 4 6 8 4 8 15 14 5 5 6 7 2 8 2 13 7 2 8 19 9 34 9 3 3 6 6 8 5 7 5 8 2 5 3 11 3 20 5 6 9 5 17 5 8 7 3 5 8 10 3 4 2 9 2 4 3 3 7 12 3 7 4 25 2 4 5 6 4 8 11 3 3 5 6 4 6 3 5 7 5 4 4 11 16 4 10 7 8 4 18 6 3 12 7 4 3 8 4 3 3 5 7 5 14 13 3 4 3 6 7 6 4 3 8 11 2 9 13 12 3 14 5 7 3 15 5 15 4 5 6 11 3 5 9 7 5 8 3 5 14 4 5 3 3 8 4 5 4 7 5 4 5 3 4 3 11 4 4 7 11 11 3 3 3 7 3 6 5 7 6 4 16 5 9 3 11 11 8 5 2 10 8 4 14 3 9 3 3 8 3 4 14 4 3 12 4 10 4 8 8 7 2 3 3 3 18 7 5 10 4 7 14 3 7 5 9 3 6 3 6 7 4 8 12 10 2 2 9 8 4 3 6 7 3 2 5 3 4 5 8 3 3 11 16 3 10 3 6 6 18 5 7 4 7 3 10 7 3 4 11 20 4 3 4 8 12 4 7 8 6 2 9 9 7 10 8 3 3 8 4 10 8 14 2 18 4 5 6 5 5 8 17 5 9 4 2 6 3 7 5 3 10 2 6 4 5 19 5 6 7 9 4 7 10 11 9 4 5 3 5 11 3 2 8 4 3 8 2 3 5 11 8 4 5 5 5 7 7 2 17 10 6 8 6 11 4 15 10 6 4 3 7 4 11 29 3 6 2 14 3 3 4 4 7 7 7 9 18 11 3 1 5 14 3 6 13 3 22 6 13 10 11 6 6 5 3 3 6 3 4 3 5 7 3 12 5 9 7 7 14 3 7 4 6 5 7 5 3 3 10 7 5 4 14 3 13 19 7 10 4 5 7 9 4 4 5 10 3 4 6 3 4 6 7 5 18 17 3 9 9 4 9 6 7 9 14 3 6 5 4 7 8 1 10 4 6 6 8 6 5 3 4 3 6 6 4 7 4 8 7 9 7 8 11 3 6 9 5 10 7 10 14 8 8 3 6 6 5 3 4 21 5 10 15 3 4 5 4 9 4 4 14 5 8 9 5 6 6 5 3 4 5 11 7 16 4 3 11 3 5 9 15 11 3 3 10 6 3 5 12 5 5 15 7 5 6 16 5 16 4 8 5 21 5 3 6 3 8 4 6 3 7 6 4 8 3 7 3 14 3 2 6 9 13 14 7 4 10 7 6 2 9 3 6 6 11 15 9 3 4 7 7 4 13 3 4 4 4 15 3 10 6 6 7 6 3 16 5 4 8 12 5 4 3 9 4 8 4 7 3 3 7 5 3 4 4 6 5 3 5 5 4 7 4 6 3 12 9 3 4 6 12 4 5 5 5 5 19 7 7 5 5 3 6 8 6 23 8 3 8 9 8 12 5 6 5 6 9 16 7 2 9 5 10 13 3 3 7 10 8 4 14 12 7 3 8 7 3 5 9 14 4 10 4 4 3 4 16 4 7 3 14 8 14 3 8 8 6 3 4 4 4 5 5 6 3 4 4 8 7 7 3 6 14 5 9 6 4 4 4 4 3 3 3 6 5 9 3 3 6 3 7 8 7 8 3 3 8 4 16 10 5 10 17 43 5 21 4 8 4 4 8 4 4 2 15 11 8 4 4 13 3 5 4 4 14 4 13 4 7 6 4 7 3 4 8 9 4 15 5 7 5 5 4 21 13 6 6 18 24 6 10 4 16 3 4 6 3 5 12 6 5 5 7 5 5 8 5 4 3 4 8 15 10 12 5 5 3 6 6 4 6 10 3 7 3 7 11 9 4 3 15 3 3 4 5 12 4 10 7 4 14 9 4 8 4 14 7 3 3 5 7 6 3 8 3 3 8 10 8 6 5 6 9 21 3 11 4 10 6 9 3 9 8 4 3 6 3 15 5 10 14 4 3 12 4 8 4 8 6 9 4 6 4 7 9 3 5 3 13 3 10 7 6 8 4 6 11 6 5 12 9 13 7 14 3 3 6 7 2 8 7 18 5 6 17 12 12 12 5 3 2 3 7 3 4 4 4 3 7 3 5 5 7 9 10 7 4 5 4 9 8 15 11 11 14 5 5 8 8 5 7 6 10 3 5 4 4 3 8 4 4 3 24 4 13 3 2 10 3 5 5 3 9 14 5 7 13 4 3 8 4 4 3 3 15 5 12 23 17 3 13 9 4 8 3 2 4 10 8 8 3 5 9 3 10 7 8 4 3 6 6 4 4 4 5 7 4 14 4 4 3 3 13 3 13 8 7 5 4 4 7 3 8 9 14 7 5 5 7 7 22 4 10 5 7 3 7 4 3 10 5 7 4 8 6 13 6 9 11 9 8 4 6 3 3 4 4 5 10 15 11 11 5 4 3 5 3 4 12 3 4 8 15 6 4 10 14 6 9 9 18 14 3 4 5 11 5 10 3 4 2 11 5 4 10 7 3 5 17 9 3 12 5 4 14 4 7 6 4 3 9 4 8 5 21 8 12 16 5 11 4 3 3 4 6 24 3 7 4 5 11 12 12 12 4 7 6 4 5 3 9 3 6 7 4 6 4 8 9 3 6 8 4 4 4 4 15 7 4 14 4 3 8 4 8 9 8 8 5 3 6 4 5 7 7 3 3 5 9 10 6 7 9 4 21 2 3 14 8 3 8 7 16 7 7 3 5 3 17 3 7 4 4 5 8 6 6 4 4 3 4 3 3 7 7 4 13 4 13 8 12 4 8 18 3 2 6 6 5 7 14 4 10 8 7 3 4 4 9 7 5 9 9 5 8 4 5 5 5 7 3 8 20 2 5 5 3 10 3 12 3 13 6 6 3 6 12 3 3 4 14 4 4 12 14 7 3 7 4 3 8 4 3 9 15 4 13 5 3 4 13 7 3 4 13 4 3 10 3 14 3 5 6 4 6 8 8 7 6 14 10 7 10 5 5 6 6 7 8 8 5 4 5 4 6 4 3 3 5 4 2 4 10 2 3 7 2 8 3 4 4 6 5 9 3 4 10 14 3 3 10 16 5 4 13 3 7 6 5 7 7 4 5 13 4 10 4 5 7 15 8 17 14 11 2 7 3 4 14 3 11 4 4 3 3 5 12 5 4 12 7 8 8 11 5 6 10 12 8 7 6 4 3 6 4 7 3 3 3 6 3 4 8 8 3 9 5 8 6 2 7 3 6 3 6 7 4 3 10 3 7 18 8 11 17 12 6 12 6 12 3 4 4 4 33 5 3 5 12 8 10 8 7 6 7 6 16 3 10 3 6 5 10 15 4 6 7 16 7 6 9 9 8 3 8 3 3 8 7 4 3 24 4 16 8 3 7 5 7 4 12 8 29 2 4 4 8 5 8 6 3 8 8 4 10 4 3 4 5 7 9 6 5 3 9 6 9 8 2 6 8 9 15 8 6 11 8 9 4 6 3 3 9 10 6 15 5 9 7 8 7 12 8 7 4 11 8 15 8 4 5 7 3 4 6 4 8 6 4 6 11 8 14 6 3 4 9 3 13 10 6 4 3 3 17 4 7 8 4 2 9 13 12 12 6 3 4 3 14 4 4 5 12 6 8 8 4 7 11 7 6 5 3 3 3 3 10 6 6 13 7 2 3 3 3 22 9 6 10 11 5 6 4 6 8 8 3 8 9 16 21 5 6 4 4 7 4 7 3 4 4 5 6 7 9 9 4 3 3 3 5 12 12 3 10 4 8 8 3 4 4 8 5 4 8 8 3 5 22 6 11 8 5 9 3 9 10 6 17 14 12 4 5 10 11 3 14 10 6 2 9 3 15 6 11 16 7 3 3 4 4 9 7 10 4 4 11 4 3 10 6 4 4 4 7 7 3 11 17 15 3 4 16 6 5 5 9 5 8 3 5 3 3 3 4 13 3 13 12 7 4 8 14 7 13 2 9 5 7 4 4 6 7 3 4 4 6 8 12 4 5 11 6 3 3 26 10 10 19 11 4 4 4 3 3 4 5 4 4 4 7 4 12 3 4 4 4 3 10 10 7 7 8 5 5 3 3 5 4 9 23 4 19 10 7 23 11 5 5 4 16 5 3 5 28 4 8 7 6 7 5 3 9 4 4 3 4 5 3 3 5 9 4 4 2 16 8 8 4 3 13 13 6 16 23 8 7 8 3 3 4 4 5 10 3 6 3 3 7 7 3 23 6 9 12 4 4 4 5 4 2 8 5 16 6 16 3 17 18 14 3 10 3 8 2 15 17 3 5 6 6 6 10 5 13 6 6 10 4 7 6 12 4 12 2 16 7 9 8 11 8 9 10 15 12 7 3 8 3 4 3 5 4 13 13 3 5 3 5 3 4 26 6 3 4 9 3 6 7 10 2 4 8 8 8 5 14 2 12 3 7 10 8 3 5 7 4 17 3 2 3 5 8 8 3 2 19 4 4 10 18 3 12 5 14 12 3 12 4 3 3 9 13 19 8 7 3 7 3 4 15 3 5 17 3 5 7 4 9 9 3 6 3 15 9 8 10 3 6 3 3 5 6 3 7 9 6 3 4 6 3 7 10 4 2 6 5 10 4 7 23 2 12 14 3 4 6 5 7 4 5 10 5 7 7 5 5 15 3 4 3 4 5 8 7 4 18 11 12 14 4 5 6 16 7 11 4 4 12 11 10 6 10 4 3 6 13 7 3 14 8 4 5 13 5 3 8 4 20 3 3 10 2 16 3 9 14 4 9 11 6 3 14 6 2 3 7 9 3 8 13 8 4 10 5 9 3 3 3 15 3 8 10 4 6 9 5 7 12 3 4 8 9 12 8 5 23 4 11 12 8 6 5 10 24 5 4 12 4 3 6 12 3 5 8 10 4 4 4 6 6 8 6 6 5 10 7 4 4 6 4 4 12 3 10 3 5 4 5 9 3 7 3 5 13 3 2 9 13 6 4 4 4 9 6 22 4 24 4 7 9 4 12 6 4 6 4 18 8 5 14 3 25 3 2 7 6 13 6 7 2 10 5 7 11 3 4 11 4 11 8 8 7 8 4 4 5 3 7 11 4 17 6 2 6 10 10 8 11 8 11 9 8 4 5 16 7 4 21 5 3 4 3 8 4 4 5 4 8 5 6 3 3 6 11 4 8 10 5 3 4 16 4 4 14 3 18 7 9 6 2 8 3 11 14 2 3 4 10 4 5 9 13 4 3 8 3 5 3 5 9 6 3 12 11 5 7 6 4 4 11 4 5 5 10 2 10 5 4 3 3 12 16 4 7 4 7 21 6 7 3 14 4 4 6 3 5 8 3 9 3 7 9 5 15 5 11 4 3 4 8 10 4 4 7 6 8 11 4 4 2 6 10 8 9 11 3 4 3 3 7 6 10 4 6 17 3 5 7 5 6 19 3 5 8 10 6 7 6 3 2 3 14 4 8 6 3 6 18 11 4 6 6 9 5 2 9 3 23 5 11 5 9 9 3 8 7 5 6 4 7 13 4 4 4 12 10 3 7 5 5 9 4 10 6 7 11 8 11 7 16 3 15 4 4 15 4 5 16 7 2 4 4 5 3 6 4 3 5 3 5 9 2 20 20 4 2 13 4 4 4 29 5 11 5 10 13 4 12 4 4 9 14 4 16 12 6 7 2 4 4 10 4 5 6 3 13 17 12 9 2 14 8 9 9 7 3 4 5 6 14 9 5 3 4 3 4 13 2 4 5 4 9 4 4 4 5 2 4 8 5 7 8 7 3 4 3 6 9 4 7 7 3 9 7 4 5 5 7 3 9 3 26 7 3 10 7 5 6 6 6 8 11 7 5 4 4 5 3 3 4 10 9 6 11 6 5 5 3 7 10 10 5 3 9 6 6 5 5 5 3 4 5 2 5 4 4 20 9 16 5 4 10 8 19 7 6 8 5 3 11 13 5 5 6 14 3 9 7 4 11 10 3 8 2 11 5 6 9 6 4 4 9 10 10 7 14 4 6 3 4 7 4 5 4 3 5 2 3 8 7 4 2 2 4 9 20 6 17 25 4 4 3 4 13 3 6 9 4 7 10 9 4 4 3 5 4 5 10 12 8 4 13 5 3 11 5 7 5 11 5 4 6 2 7 4 8 15 6 5 14 3 5 4 12 5 5 4 7 4 4 6 2 7 2 8 10 6 7 15 7 4 9 4 3 8 4 9 6 3 3 4 7 8 16 10 4 2 12 5 16 9 4 7 5 3 3 7 18 5 4 4 14 4 8 4 7 4 5 12 18 5 10 12 9 5 4 5 4 5 6 7 28 8 8 3 7 11 11 7 3 10 17 5 4 13 4 13 4 5 8 6 4 15 5 12 10 3 9 10 4 16 3 7 21 4 3 13 3 4 4 8 4 3 2 3 7 6 6 9 4 8 3 8 3 8 10 10 5 3 1 11 5 4 6 3 10 5 16 6 12 12 6 4 3 15 5 10 3 4 3 9 10 17 5 5 8 4 5 5 19 6 6 8 4 4 10 11 4 8 3 27 4 5 3 4 4 19 3 3 6 5 3 9 8 7 6 16 33 14 5 7 3 5 4 4 3 3 2 10 11 6 10 8 3 3 14 11 3 5 7 14 10 8 6 16 4 5 6 6 10 3 4 18 6 4 8 6 5 4 4 9 2 5 7 7 11 4 4 7 7 5 4 4 11 6 8 4 3 6 8 4 4 3 5 9 9 3 6 6 4 3 4 6 5 10 9 6 14 9 3 8 29 8 6 6 6 3 9 5 4 12 7 5 6 4 5 5 5 25 11 11 3 7 12 14 12 8 6 4 3 3 9 4 2 9 4 8 5 5 5 11 4 7 2 6 4 6 3 9 4 5 7 2 6 7 11 9 5 3 9 8 8 7 6 6 10 10 9 4 5 6 5 10 9 4 7 3 13 4 9 18 3 3 11 13 21 4 3 4 3 4 9 4 7 7 6 4 10 5 10 12 11 13 9 15 5 4 3 11 8 4 4 8 4 5 17 4 14 11 2 4 6 2 3 7 3 5 8 11 7 10 7 4 4 5 3 11 16 6 5 6 3 13 5 6 8 5 3 7 5 5 11 6 4 11 3 8 3 7 4 4 10 7 5 15 10 16 18 4 2 5 3 9 4 3 5 3 3 4 3 7 11 5 7 5 6 9 4 7 8 5 4 10 8 3 3 6 10 11 3 3 2 3 5 4 5 4 4 3 3 2 4 10 8 3 2 2 5 4 5 9 16 4 5 8 9 13 9 5 3 6 14 10 5 7 4 6 2 6 4 2 3 5 7 7 4 5 8 7 3 8 4 4 14 7 4 8 14 4 8 2 8 3 9 6 10 4 4 11 8 11 7 9 10 3 11 3 10 7 11 11 20 4 3 3 23 8 10 3 2 4 4 4 17 12 7 13 7 5 4 7 5 4 16 4 7 7 6 13 2 5 9 9 3 9 3 10 10 3 5 6 8 2 4 9 3 6 9 4 13 9 3 9 20 4 3 2 7 3 1 4 4 11 4 3 5 4 16 8 6 5 4 12 13 3 3 5 4 3 19 4 17 4 3 9 4 5 3 10 5 4 6 7 4 3 3 3 8 11 8 3 3 15 7 8 7 3 3 13 5 4 4 8 7 3 5 4 4 6 3 6 3 28 16 6 5 14 4 8 7 9 6 23 18 7 11 3 4 15 4 5 7 10 4 20 3 5 12 5 8 9 3 5 3 16 12 5 10 4 9 6 10 8 7 4 3 3 3 13 7 5 10 5 3 4 5 3 4 3 3 7 4 4 4 7 21 4 4 5 13 6 3 14 11 5 11 4 7 6 6 3 2 4 4 3 3 3 5 12 8 9 4 9 6 4 5 3 4 6 8 4 14 4 11 14 7 6 5 3 3 9 6 19 4 4 9 15 4 5 6 5 7 18 6 4 3 3 3 7 3 9 5 3 14 7 12 8 4 3 11 14 3 19 7 12 5 5 10 12 8 6 3 5 3 14 23 6 3 5 10 12 9 6 4 7 5 6 3 5 7 6 7 4 5 6 5 4 3 6 5 9 6 10 7 13 15 9 7 9 3 4 5 4 4 6 12 3 3 10 10 18 3 18 23 3 5 6 7 4 9 9 4 3 12 8 8 16 11 6 2 11 11 7 5 9 6 9 6 10 5 15 3 7 8 6 3 27 7 3 6 3 10 5 5 4 3 4 4 15 3 4 9 6 6 8 15 6 10 10 15 8 3 12 8 7 4 5 4 6 4 6 8 3 4 3 14 3 3 20 5 4 7 16 4 10 6 4 4 9 2 3 4 3 16 4 4 11 3 4 4 3 11 3 11 4 10 4 5 8 3 3 3 3 8 8 7 3 4 11 8 3 5 5 16 21 3 5 5 7 3 4 6 26 4 3 4 4 9 4 8 5 4 3 3 5 5 3 3 9 7 9 9 6 4 6 8 11 9 9 8 8 3 3 8 5 8 5 6 12 3 9 10 3 9 3 5 2 16 3 5 5 23 3 3 15 4 7 3 9 4 9 19 6 5 5 7 4 6 19 9 17 3 4 5 10 9 9 5 4 7 5 3 14 5 6 9 5 3 4 6 3 4 18 8 17 7 6 5 3 5 7 10 9 6 7 9 6 4 10 26 3 3 8 38 8 4 8 15 9 5 6 7 14 5 5 7 4 15 8 6 3 14 5 8 19 7 6 7 4 6 7 5 4 4 3 9 4 4 6 8 3 5 3 8 6 8 7 7 9 9 6 6 5 11 6 4 4 21 3 21 4 8 4 4 8 6 3 5 3 5 10 9 5 12 6 7 9 5 5 3 15 13 12 6 4 4 3 3 9 9 18 3 7 6 5 6 3 8 3 9 3 9 4 11 8 6 4 3 7 10 3 6 11 4 7 3 5 16 4 5 7 4 5 5 3 3 10 7 10 4 7 8 16 9 6 6 13 9 4 3 5 4 9 16 4 4 8 5 8 7 3 10 9 6 13 6 8 16 11 4 5 5 3 3 3 14 4 4 18 4 4 5 21 4 13 12 7 12 5 4 7 9 3 5 29 6 9 5 10 9 5 3 5 4 3 8 8 9 3 3 2 5 8 3 8 5 19 4 7 4 4 6 4 4 14 4 12 8 7 12 9 3 11 5 22 3 14 4 3 7 2 5 4 5 21 10 6 3 4 4 5 7 5 9 8 16 6 9 4 14 3 7 6 8 4 16 6 4 3 9 16 3 7 9 9 5 6 19 7 11 3 8 6 4 5 5 3 7 3 4 7 11 14 4 7 5 8 6 11 5 7 5 6 14 4 5 13 8 3 4 9 7 8 7 4 5 3 12 8 18 5 7 11 8 10 8 6 13 9 8 5 5 9 15 4 7 14 3 4 8 26 10 8 6 5 8 3 18 23 22 9 3 8 8 6 5 4 12 10 17 10 9 12 4 3 7 7 5 11 11 7 10 6 4 7 8 8 3 9 4 6 3 4 4 9 6 4 5 9 3 7 4 10 4 9 8 15 7 6 4 5 12 4 9 3 7 11 8 4 11 6 5 5 2 7 11 5 8 15 7 3 6 13 6 3 5 9 4 6 3 14 8 5 6 8 4 4 10 12 6 24 7 11 8 3 3 5 15 9 3 4 3 3 3 5 7 13 10 9 4 11 8 4 3 3 3 4 6 5 3 7 3 3 6 3 6 16 6 5 7 6 13 6 3 3 5 11 5 9 3 4 3 4 2 7 5 8 4 7 10 4 4 17 5 6 6 17 3 3 5 2 4 6 6 7 2 4 6 4 17 6 10 4 6 8 5 10 10 4 4 10 5 12 3 11 10 15 5 6 4 4 10 6 7 15 3 7 7 15 4 13 3 7 16 4 4 20 3 3 5 7 6 3 7 4 14 4 4 4 2 13 11 6 13 13 4 8 11 13 6 5 4 2 5 6 17 4 4 7 7 3 8 4 3 6 5 6 12 4 7 8 6 3 16 7 7 8 2 4 4 5 4 7 5 4 16 4 3 18 14 6 4 7 2 7 4 7 9 26 5 9 9 5 3 5 11 10 5 13 9 10 8 5 4 6 7 3 5 3 4 14 5 4 6 19 10 2 8 5 4 19 8 5 6 11 3 12 10 6 9 7 3 5 3 10 8 4 8 7 11 16 7 9 4 3 4 4 4 3 11 6 4 8 5 5 18 4 2 3 7 3 6 5 3 6 4 4 19 7 2 5 2 4 3 3 7 3 12 4 6 3 12 23 6 10 5 9 6 3 10 3 3 4 3 6 20 4 4 7 3 6 8 10 5 6 4 7 8 4 8 3 4 12 3 6 3 6 5 17 5 14 4 11 10 7 14 18 10 8 6 4 4 4 3 5 3 1 9 3 5 7 4 26 3 13 15 8 4 8 11 15 3 4 8 27 3 17 5 4 5 6 10 3 18 11 3 6 11 5 2 6 3 4 6 3 4 5 7 4 3 16 6 3 10 3 4 11 4 6 5 4 3 8 2 4 6 4 22 8 3 6 8 4 3 16 7 1 22 7 4 3 5 3 3 4 12 6 10 6 10 4 4 6 12 2 20 6 8 7 9 4 4 7 11 3 7 4 7 4 6 3 5 14 5 3 4 8 3 4 3 3 3 3 10 6 3 8 3 12 7 6 4 6 4 5 10 7 11 6 9 6 4 11 4 9 2 3 11 3 13 4 5 12 4 22 6 4 10 12 9 6 7 10 2 12 4 6 11 12 11 5 7 7 12 13 9 8 8 9 4 3 9 11 5 3 5 18 3 3 3 4 26 6 3 19 7 7 3 4 3 4 7 5 3 3 4 4 3 5 2 4 7 11 4 4 6 15 14 5 5 11 3 5 4 2 5 3 4 8 4 3 4 7 10 3 5 7 5 8 6 9 4 4 6 7 16 10 4 19 3 8 14 3 6 11 10 5 7 8 10 9 18 19 4 10 26 16 6 3 3 3 5 3 3 7 5 4 16 3 14 4 12 6 5 6 11 2 4 14 9 4 3 12 11 3 2 14 4 4 3 11 3 4 6 7 3 5 7 18 5 3 5 7 9 12 20 3 13 4 3 9 5 3 11 3 2 6 4 3 29 5 6 5 6 10 17 4 6 11 3 8 5 3 4 7 5 14 4 6 5 13 4 2 2 5 5 16 5 10 5 6 13 12 5 12 7 3 4 4 9 7 4 6 16 12 11 3 15 3 12 3 3 14 4 3 5 12 7 11 13 3 8 5 7 4 6 4 9 9 11 5 13 4 4 5 9 4 15 8 2 6 11 6 3 4 5 10 3 4 4 4 3 5 14 6 3 4 8 8 15 9 6 4 6 5 8 4 4 3 10 4 4 8 3 3 3 8 3 3 8 11 9 9 4 5 11 3 3 6 9 4 11 15 4 7 3 3 10 13 4 4 3 6 4 16 5 16 6 23 3 13 2 14 9 9 6 5 18 3 7 7 6 8 18 7 2 8 5 7 9 4 9 12 9 13 12 11 7 7 5 3 18 8 3 9 18 5 4 6 6 6 6 3 4 18 8 12 7 6 3 6 6 7 4 8 3 6 10 7 4 10 4 5 3 11 10 6 10 9 14 4 4 7 8 7 11 13 3 9 3 3 7 6 21 9 11 9 5 8 5 3 10 13 3 4 3 8 10 10 5 4 4 22 4 3 6 8 8 10 2 3 8 6 4 5 3 6 13 3 9 9 6 4 12 3 11 11 4 7 5 16 5 8 8 3 5 8 9 7 6 4 6 8 3 3 33 5 3 4 5 7 4 3 3 10 3 2 8 12 9 15 7 4 6 3 7 5 7 3 5 6 5 5 8 12 4 3 5 16 4 4 4 9 8 3 8 21 6 15 3 12 13 3 9 5 3 3 3 5 6 2 11 16 17 9 3 9 2 11 3 4 6 5 3 2 4 3 6 8 26 14 6 8 12 5 2 16 14 11 3 4 4 3 9 12 7 8 4 3 8 11 7 6 5 6 6 3 4 3 5 9 6 9 10 10 4 15 8 28 4 8 7 6 8 25 5 7 4 4 4 10 3 14 6 3 15 6 9 4 3 9 4 5 4 16 6 12 9 13 10 8 3 8 4 8 4 4 3 9 3 4 4 8 3 3 4 11 3 3 3 6 4 9 10 5 6 6 10 3 6 8 8 5 5 16 3 14 10 3 3 16 7 4 5 3 5 6 5 15 4 8 3 13 11 9 6 9 8 7 10 6 4 3 16 3 8 7 2 7 10 3 7 6 9 8 10 9 6 9 8 3 7 5 8 10 3 3 12 9 10 3 7 7 6 4 4 14 3 3 3 4 3 9 10 4 7 7 6 5 3 4 20 3 6 14 5 10 13 10 7 3 3 11 4 6 7 11 9 5 14 4 4 7 3 16 10 6 2 5 10 13 8 5 6 3 13 13 6 9 3 6 11 9 6 7 5 6 21 3 6 5 3 11 14 8 7 7 10 3 8 14 3 7 3 8 3 4 3 4 2 2 3 21 5 8 12 15 13 5 12 3 3 10 5 8 7 7 5 4 8 2 10 4 4 5 6 7 3 3 4 9 4 9 3 19 4 14 3 8 6 5 8 7 7 5 7 3 5 3 3 10 7 6 12 3 8 15 6 6 8 3 9 12 16 9 5 5 8 3 3 6 2 9 5 17 7 6 9 8 7 3 4 6 12 6 4 4 5 7 9 16 4 5 9 4 5 14 2 15 5 5 3 4 9 3 4 9 8 4 3 5 8 13 7 9 3 4 11 7 6 8 10 11 6 12 5 7 19 4 8 8 3 11 3 6 11 4 4 7 7 10 9 5 12 7 3 6 7 4 4 5 9 3 7 4 4 7 4 9 9 15 6 6 9 3 15 10 5 4 3 3 3 2 3 9 4 14 4 14 14 5 4 4 13 5 3 7 5 13 9 10 7 3 7 4 9 7 3 4 11 5 3 9 12 8 8 11 5 16 5 5 4 5 11 9 5 7 4 7 8 12 15 10 5 12 14 6 4 12 7 3 6 4 17 16 8 6 5 10\n"
     ]
    }
   ],
   "source": [
    "print(\" \".join(map(str, each_drug_embedding_len)))"
   ]
  },
  {
   "cell_type": "code",
   "execution_count": 49,
   "id": "c88e1c0f",
   "metadata": {},
   "outputs": [
    {
     "data": {
      "text/plain": [
       "[345, 1604, 1727, 1831, 2232, 2773, 2855, 5264, 5744, 7011, 7081]"
      ]
     },
     "execution_count": 49,
     "metadata": {},
     "output_type": "execute_result"
    }
   ],
   "source": [
    "# These are the indices of the drug names that have only one embedding, i.e. the drug name is in the Vocabulary\n",
    "one_indices = [i for i, num in enumerate(biobert_embeddings_no_oov) if len(num) == 1]\n",
    "one_indices"
   ]
  },
  {
   "cell_type": "code",
   "execution_count": 52,
   "id": "e61b00dd",
   "metadata": {},
   "outputs": [
    {
     "data": {
      "text/plain": [
       "['same',\n",
       " 'remedy',\n",
       " 'posture',\n",
       " 'had',\n",
       " 'cope',\n",
       " 'alert',\n",
       " 'potassium',\n",
       " 'garlic',\n",
       " 'charcoal',\n",
       " 'zinc',\n",
       " 'glucose']"
      ]
     },
     "execution_count": 52,
     "metadata": {},
     "output_type": "execute_result"
    }
   ],
   "source": [
    "[unique_drug_names[i] for i in one_indices]"
   ]
  },
  {
   "attachments": {},
   "cell_type": "markdown",
   "id": "e16c7ec8",
   "metadata": {},
   "source": [
    "<font color=\"red\">Unfortunately only the above have a not Out-of-Vocabulary embedding</font>"
   ]
  },
  {
   "attachments": {},
   "cell_type": "markdown",
   "id": "6a40d13a",
   "metadata": {},
   "source": [
    "## Evaluations\n",
    "\n",
    "Top-K similarities"
   ]
  },
  {
   "cell_type": "code",
   "execution_count": null,
   "id": "90695fab",
   "metadata": {},
   "outputs": [],
   "source": [
    "import faiss\n",
    "import numpy as np\n",
    "\n",
    "# Assuming you have computed biobert_embeddings\n",
    "\n",
    "# Instantiate an index with the desired index type and dimensionality\n",
    "index = faiss.IndexFlatIP(256)  # Cosine similarity, assuming 256-dimensional embeddings\n",
    "\n",
    "# Convert biobert_embeddings to a numpy array\n",
    "biobert_embeddings_np = np.array(biobert_embeddings)\n",
    "\n",
    "# Add biobert_embeddings_np to the index\n",
    "index.add(biobert_embeddings_np)\n",
    "\n",
    "# Specify the number of nearest neighbors to retrieve (k)\n",
    "k = 5\n",
    "\n",
    "# Perform the similarity search for each embedding\n",
    "D, I = index.search(biobert_embeddings_np, k+1)  # Retrieve k+1 neighbors to exclude self\n",
    "\n",
    "# D contains the similarities to the nearest neighbors (cosine similarity)\n",
    "# I contains the indices of the nearest neighbors (excluding self)\n",
    "\n",
    "# Iterate over each embedding\n",
    "for i in range(biobert_embeddings_np.shape[0]):\n",
    "    embedding = biobert_embeddings_np[i]\n",
    "    nearest_indices = I[i][1:]  # Exclude self, start from index 1\n",
    "    nearest_similarities = D[i][1:]  # Exclude self, start from index 1\n",
    "\n",
    "    # Print the top-k nearest neighbors for the current embedding\n",
    "    print(f\"Embedding {i+1}:\")\n",
    "    for j, index in enumerate(nearest_indices):\n",
    "        similarity = nearest_similarities[j]\n",
    "        print(f\"Nearest Neighbor {j+1}: Index {index}, Similarity {similarity}\")\n",
    "    print()\n"
   ]
  },
  {
   "attachments": {},
   "cell_type": "markdown",
   "id": "4cb57841-87c8-441c-8847-96abec59cced",
   "metadata": {},
   "source": [
    "## TODO try ClinicalBERT https://github.com/EmilyAlsentzer/clinicalBERT"
   ]
  },
  {
   "cell_type": "code",
   "execution_count": 8,
   "id": "cdfdda59-4fe6-49f4-ad18-b2c8e248ffef",
   "metadata": {},
   "outputs": [],
   "source": [
    "# from transformers import AutoTokenizer, AutoModel\n",
    "# tokenizer = AutoTokenizer.from_pretrained(\"emilyalsentzer/Bio_ClinicalBERT\")\n",
    "# model = AutoModel.from_pretrained(\"emilyalsentzer/Bio_ClinicalBERT\")\n"
   ]
  },
  {
   "cell_type": "code",
   "execution_count": null,
   "id": "a7befa08-cb7f-4b6a-8a4d-dc54462213f9",
   "metadata": {},
   "outputs": [],
   "source": []
  }
 ],
 "metadata": {
  "kernelspec": {
   "display_name": "Python 3 (ipykernel)",
   "language": "python",
   "name": "python3"
  },
  "language_info": {
   "codemirror_mode": {
    "name": "ipython",
    "version": 3
   },
   "file_extension": ".py",
   "mimetype": "text/x-python",
   "name": "python",
   "nbconvert_exporter": "python",
   "pygments_lexer": "ipython3",
   "version": "3.9.6"
  }
 },
 "nbformat": 4,
 "nbformat_minor": 5
}
