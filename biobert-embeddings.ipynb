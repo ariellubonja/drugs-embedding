{
 "cells": [
  {
   "cell_type": "code",
   "execution_count": 1,
   "id": "966ad518-7129-4e4c-927b-12743b19c66f",
   "metadata": {},
   "outputs": [
    {
     "name": "stderr",
     "output_type": "stream",
     "text": [
      "/Users/ariellubonja/Library/Python/3.9/lib/python/site-packages/tqdm/auto.py:21: TqdmWarning: IProgress not found. Please update jupyter and ipywidgets. See https://ipywidgets.readthedocs.io/en/stable/user_install.html\n",
      "  from .autonotebook import tqdm as notebook_tqdm\n"
     ]
    }
   ],
   "source": [
    "from biobert_embedding.embedding import BiobertEmbedding"
   ]
  },
  {
   "cell_type": "markdown",
   "id": "073a1da6-f4b9-46d5-9f36-8135c77c6252",
   "metadata": {},
   "source": [
    "## Pip installing the repo from my Github clone downloaded biobert_v1.1_pubmed_pytorch_model.tar.gz"
   ]
  },
  {
   "cell_type": "code",
   "execution_count": 2,
   "id": "e2a8fab6-27d9-421c-8c03-d2b7333fa481",
   "metadata": {
    "scrolled": true
   },
   "outputs": [
    {
     "name": "stdout",
     "output_type": "stream",
     "text": [
      "Using existing models/pytorch_model.bin\n",
      "Using existing models/config.json\n",
      "Using existing models/vocab.txt\n"
     ]
    }
   ],
   "source": [
    "## Example 1\n",
    "text = \"Breast cancers with HER2 amplification have a higher risk of CNS metastasis and poorer prognosis.\"\\\n",
    "\n",
    "# Class Initialization (You can set default 'model_path=None' as your finetuned BERT model path while Initialization)\n",
    "biobert = BiobertEmbedding()"
   ]
  },
  {
   "cell_type": "code",
   "execution_count": 3,
   "id": "7584fab5-7f55-45d6-96b9-68efebf2263a",
   "metadata": {},
   "outputs": [
    {
     "name": "stdout",
     "output_type": "stream",
     "text": [
      "Text Tokens:  ['breast', 'cancers', 'with', 'her2', 'amplification', 'have', 'a', 'higher', 'risk', 'of', 'cns', 'metastasis', 'and', 'poorer', 'prognosis', '.']\n",
      "Shape of Word Embeddings: 16 x 768\n",
      "Shape of Sentence Embedding =  768\n"
     ]
    }
   ],
   "source": [
    "word_embeddings = biobert.word_vector(text)\n",
    "sentence_embedding = biobert.sentence_vector(text)\n",
    "\n",
    "print(\"Text Tokens: \", biobert.tokens)\n",
    "# Text Tokens:  ['breast', 'cancers', 'with', 'her2', 'amplification', 'have', 'a', 'higher', 'risk', 'of', 'cns', 'metastasis', 'and', 'poorer', 'prognosis', '.']\n",
    "\n",
    "print ('Shape of Word Embeddings: %d x %d' % (len(word_embeddings), len(word_embeddings[0])))\n",
    "# Shape of Word Embeddings: 16 x 768\n",
    "\n",
    "print(\"Shape of Sentence Embedding = \",len(sentence_embedding))\n",
    "# Shape of Sentence Embedding =  768\n",
    "\n",
    "## Example 2\n",
    "sentence_vector1 = biobert.sentence_vector('Breast cancers with HER2 amplification have a higher risk of CNS metastasis and poorer prognosis.')\n",
    "sentence_vector2 = biobert.sentence_vector('Breast cancers with HER2 amplification are more aggressive, have a higher risk of CNS metastasis, and poorer prognosis.')"
   ]
  },
  {
   "cell_type": "code",
   "execution_count": 5,
   "id": "d09e2416-c21a-48d5-ac97-2261f15debed",
   "metadata": {},
   "outputs": [
    {
     "name": "stdout",
     "output_type": "stream",
     "text": [
      "cosine similarity: 0.9927560091018677\n"
     ]
    }
   ],
   "source": [
    "from scipy.spatial.distance import cosine as cosine_distance\n",
    "\n",
    "cosine_sim = 1 - cosine_distance(sentence_vector1, sentence_vector2)\n",
    "print('cosine similarity:', cosine_sim)\n",
    "#cosine similarity: 0.992756187915802"
   ]
  },
  {
   "cell_type": "code",
   "execution_count": null,
   "id": "a2d71dce-9fe2-4065-8b30-493cb96e923b",
   "metadata": {},
   "outputs": [],
   "source": []
  }
 ],
 "metadata": {
  "kernelspec": {
   "display_name": "Python 3 (ipykernel)",
   "language": "python",
   "name": "python3"
  },
  "language_info": {
   "codemirror_mode": {
    "name": "ipython",
    "version": 3
   },
   "file_extension": ".py",
   "mimetype": "text/x-python",
   "name": "python",
   "nbconvert_exporter": "python",
   "pygments_lexer": "ipython3",
   "version": "3.9.6"
  }
 },
 "nbformat": 4,
 "nbformat_minor": 5
}
